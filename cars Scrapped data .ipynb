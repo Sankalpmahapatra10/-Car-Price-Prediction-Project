{
 "cells": [
  {
   "cell_type": "markdown",
   "id": "a093de7a",
   "metadata": {},
   "source": [
    "# Scrapping data from different sites for building Used cars price prediction project\n",
    "\n",
    "\n"
   ]
  },
  {
   "cell_type": "code",
   "execution_count": 78,
   "id": "45ab8f4e",
   "metadata": {},
   "outputs": [],
   "source": [
    "\n",
    "import time, sys\n",
    "import tqdm.notebook as tqdm\n",
    "import pandas as pd\n",
    "import numpy as np\n",
    "\n",
    "import requests\n",
    "import selenium\n",
    "from bs4 import BeautifulSoup\n",
    "from selenium import webdriver\n",
    "from urllib.parse import urljoin\n",
    "from selenium.webdriver.common.by import By\n",
    "from selenium.webdriver.support.ui import WebDriverWait\n",
    "from selenium.webdriver.support import expected_conditions as ec\n",
    "from selenium.common.exceptions import TimeoutException, StaleElementReferenceException\n",
    "from selenium.common.exceptions import NoSuchElementException, ElementClickInterceptedException\n",
    "\n",
    "import warnings\n",
    "warnings.simplefilter(\"ignore\")\n",
    "warnings.filterwarnings(\"ignore\")"
   ]
  },
  {
   "cell_type": "code",
   "execution_count": 79,
   "id": "b46b817d",
   "metadata": {},
   "outputs": [],
   "source": [
    "# Connecting to the webdriver\n",
    "driver = webdriver.Chrome(r\"C:\\Users\\sanka\\Downloads\\Compressed\\chromedriver_win32_2\\chromedriver.exe\")"
   ]
  },
  {
   "cell_type": "code",
   "execution_count": 80,
   "id": "23be7338",
   "metadata": {},
   "outputs": [],
   "source": [
    "# Getting the webpage of mentioned url\n",
    "page_url = \"https://www.cardekho.com/\"\n",
    "driver.get(page_url)\n",
    "time.sleep(3)"
   ]
  },
  {
   "cell_type": "code",
   "execution_count": 81,
   "id": "af76c149",
   "metadata": {},
   "outputs": [],
   "source": [
    "# Fetching urls to navigate used cars page \n",
    "usedcars = driver.find_element_by_xpath(\"/html/body/div[2]/div/header/div[2]/div/div/nav/ul/li[2]/ul/li[2]/a\")                     "
   ]
  },
  {
   "cell_type": "code",
   "execution_count": 82,
   "id": "834a2140",
   "metadata": {},
   "outputs": [],
   "source": [
    "# Getting used car page urls\n",
    "usedcars = usedcars.get_attribute('href')"
   ]
  },
  {
   "cell_type": "code",
   "execution_count": 83,
   "id": "8042fa25",
   "metadata": {},
   "outputs": [],
   "source": [
    "# Getting used cars urls\n",
    "driver.get(usedcars)\n",
    "time.sleep(3)"
   ]
  },
  {
   "cell_type": "code",
   "execution_count": 84,
   "id": "ca193df3",
   "metadata": {},
   "outputs": [],
   "source": [
    "cities = driver.find_elements_by_xpath(\"//ul[@class = 'listing gsc_col-md-9 gsc_col-lg-9']//li/a\")"
   ]
  },
  {
   "cell_type": "code",
   "execution_count": 85,
   "id": "5edd4050",
   "metadata": {},
   "outputs": [],
   "source": [
    "city = []\n",
    "for i in cities:\n",
    "    city.append(i.get_attribute('href'))"
   ]
  },
  {
   "cell_type": "code",
   "execution_count": 86,
   "id": "0f153f51",
   "metadata": {},
   "outputs": [],
   "source": [
    "Carbrand = []\n",
    "carprice = []\n",
    "kmsdriven = []\n",
    "fuel = []\n",
    "transmission = []\n",
    "cityurl = []\n",
    "carurls = []\n",
    "\n",
    "for i in city:\n",
    "    driver.get(i)\n",
    "    time.sleep(3)\n",
    "    \n",
    "    for _ in range(150):\n",
    "        time.sleep(1)\n",
    "        driver.execute_script(\"window.scrollBy(0,1000)\")\n",
    "    current_url = driver.current_url    \n",
    "    car = driver.find_elements_by_xpath(\"//div[@class='gsc_col-xs-7  carsName']/a\")\n",
    "    for i in car:\n",
    "        carurls.append(i.get_attribute('href'))\n",
    "        \n",
    "    # Fetching car brand and location urls of the used cars\n",
    "    for i in driver.find_elements_by_xpath(\"//div[@class='gsc_col-xs-7  carsName']/a\"):\n",
    "        Carbrand.append(i.text)\n",
    "        cityurl.append(current_url)\n",
    "    \n",
    "    # Fetching price of the cars\n",
    "    for i in driver.find_elements_by_xpath(\"//span[@class='amnt ']\"):\n",
    "        carprice.append(i.text)\n",
    "    \n",
    "    # Fetching driven kilometers of the used cars\n",
    "    for i in driver.find_elements_by_xpath(\"//div[@class='truncate dotlist']//span[1]\"):\n",
    "        kmsdriven.append(i.text)\n",
    "    \n",
    "    # Fetching fuel type of the cars\n",
    "    for i in driver.find_elements_by_xpath(\"//div[@class='truncate dotlist']//span[2]\"):\n",
    "        fuel.append(i.text)\n",
    "    \n",
    "    # Fetching transmission of the cars\n",
    "    for i in driver.find_elements_by_xpath(\"//div[@class='truncate dotlist']//span[3]\"):\n",
    "        transmission.append(i.text)"
   ]
  },
  {
   "cell_type": "code",
   "execution_count": null,
   "id": "8d07b779",
   "metadata": {},
   "outputs": [],
   "source": [
    "# Printing length of car features to confirm\n",
    "print(len(carurls),len(Carbrand), len(cityurl), len(carprice), len(kmsdriven), len(fuel), len(transmission))"
   ]
  },
  {
   "cell_type": "code",
   "execution_count": null,
   "id": "e88746a3",
   "metadata": {},
   "outputs": [],
   "source": [
    "# Creating empty list to scrap the specification of the used cars\n",
    "seats = []\n",
    "engine_disp = []\n",
    "milage = []\n",
    "color = []\n",
    "max_power = []\n",
    "front_brake = []\n",
    "rear_brake = []\n",
    "cargo_vol = []\n",
    "height = []\n",
    "width = []\n",
    "length = []\n",
    "weight = []\n",
    "insp_score = []\n",
    "top_speed = []"
   ]
  },
  {
   "cell_type": "code",
   "execution_count": null,
   "id": "70d0e61e",
   "metadata": {},
   "outputs": [],
   "source": [
    "# for loop to get car urls\n",
    "for i in car_urls:\n",
    "    driver.get(i)\n",
    "    time.sleep(2)\n",
    "    \n",
    "    # Clicking on view all specifications button to view more features of the cars\n",
    "    try:\n",
    "        view_more = driver.find_element_by_xpath(\"//*[text() = 'View All Specifications' or text() = 'View More']\")\n",
    "        driver.execute_script(\"arguments[0].scrollIntoView();\", view_more)\n",
    "        driver.execute_script(\"arguments[0].click();\", view_more)\n",
    "        time.sleep(2)\n",
    "    except NoSuchElementException:\n",
    "        pass\n",
    "    \n",
    "    # Fetching engine displacement of the cars\n",
    "    try:\n",
    "        eng = driver.find_element_by_xpath(\"//*[text()='Engine']/following-sibling::div\") \n",
    "        engine_disp.append(eng.text.replace('CC',''))\n",
    "    except NoSuchElementException:\n",
    "        engine_disp.append('-')\n",
    "    \n",
    "    # Fetching Mileage of the cars\n",
    "    try:\n",
    "        mil = driver.find_element_by_xpath(\"//*[text()='Mileage']/following-sibling::div\")\n",
    "        milage.append(mil.text)\n",
    "    except NoSuchElementException:\n",
    "        milage.append('-')\n",
    "        \n",
    "    # Fetching seating capacity of the cars\n",
    "    try:\n",
    "        sts = driver.find_element_by_xpath(\"//*[text()='Seating Capacity']/following-sibling::div\")\n",
    "        seats.append(sts.text)\n",
    "    except NoSuchElementException:\n",
    "        seats.append('-')\n",
    "        \n",
    "    # Fetching colour of the cars\n",
    "    try:\n",
    "        clr = driver.find_element_by_xpath(\"//*[text()='Color']/following-sibling::div\")\n",
    "        color.append(clr.text)\n",
    "    except NoSuchElementException:\n",
    "        color.append('-')\n",
    "        \n",
    "    # Fetching Maximum power of the cars\n",
    "    try:\n",
    "        pwr = driver.find_element_by_xpath(\"//*[text()='Max Power']/following-sibling::div\")\n",
    "        max_power.append(pwr.text.replace('bhp',''))\n",
    "    except NoSuchElementException:\n",
    "        max_power.append('-')\n",
    "        \n",
    "    # Fetching Front brake type of the cars\n",
    "    try:\n",
    "        fbrk = driver.find_element_by_xpath(\"//*[text()='Front Brake Type']/following-sibling::div\")\n",
    "        front_brake.append(fbrk.text)\n",
    "    except NoSuchElementException:\n",
    "        front_brake.append('-')\n",
    "        \n",
    "    # Fetching rear brake type of the cars\n",
    "    try:\n",
    "        rbrk = driver.find_element_by_xpath(\"//*[text()='Rear Brake Type']/following-sibling::div\")\n",
    "        rear_brake.append(rbrk.text)\n",
    "    except NoSuchElementException:\n",
    "        rear_brake.append('-')\n",
    "        \n",
    "    # Fetching details of cargo volume of the cars\n",
    "    try:\n",
    "        vol = driver.find_element_by_xpath(\"//*[text()='Cargo Volumn']/following-sibling::div\")\n",
    "        cargo_vol.append(vol.text)\n",
    "    except NoSuchElementException:\n",
    "        cargo_vol.append('-')\n",
    "        \n",
    "    # Fetching top speed of the cars\n",
    "    try:\n",
    "        speed = driver.find_element_by_xpath(\"//*[text()='Top Speed']/following-sibling::div\")\n",
    "        top_speed.append(speed.text)\n",
    "    except NoSuchElementException:\n",
    "        top_speed.append('-')\n",
    "        \n",
    "    # Fetching height of the cars\n",
    "    try:\n",
    "        hgt = driver.find_element_by_xpath(\"//*[text()='Height']/following-sibling::div\")\n",
    "        height.append(hgt.text.replace('mm',''))\n",
    "    except NoSuchElementException:\n",
    "        height.append('-')\n",
    "        \n",
    "    # Fetching width of the cars\n",
    "    try:\n",
    "        wth = driver.find_element_by_xpath(\"//*[text()='Width']/following-sibling::div\")\n",
    "        width.append(wth.text.replace('mm',''))\n",
    "    except NoSuchElementException:\n",
    "        width.append('-')\n",
    "        \n",
    "    # Fetching length of the cars\n",
    "    try:\n",
    "        lth = driver.find_element_by_xpath(\"//*[text()='Length']/following-sibling::div\")\n",
    "        length.append(lth.text.replace('mm',''))\n",
    "    except NoSuchElementException:\n",
    "        length.append('-')\n",
    "        \n",
    "    # Fetching gross weight of the cars\n",
    "    try:\n",
    "        weigh = driver.find_element_by_xpath(\"//*[text()='Gross Weight']/following-sibling::div\")\n",
    "        weight.append(weigh.text.replace('kg',''))\n",
    "    except NoSuchElementException:\n",
    "        weight.append('-')\n",
    "        \n",
    "    # Fetching Inspection score of the cars\n",
    "    try:\n",
    "        insp = driver.find_element_by_xpath(\"//div[@class='inspectionRating right-side gsc_col-xs-5 text-right']/span\")\n",
    "        insp_score.append(insp.text)\n",
    "    except NoSuchElementException:\n",
    "        insp_score.append('-')"
   ]
  },
  {
   "cell_type": "code",
   "execution_count": null,
   "id": "c09990b3",
   "metadata": {},
   "outputs": [],
   "source": [
    "# Printing lengths of all the features\n",
    "print(len(seats),len(engine_disp),len(milage),len(color),len(max_power),len(front_brake),len(rear_brake),len(cargo_vol),len(height),len(width),len(length),len(weight),len(insp_score),len(top_speed))"
   ]
  },
  {
   "cell_type": "code",
   "execution_count": null,
   "id": "e03fbd4c",
   "metadata": {},
   "outputs": [],
   "source": [
    "# Creating a dataframe of scraped data\n",
    "data = list(zip(Carbrand,fuel,kmsdriven,engine_disp,transmission,milage,seats,color,max_power,front_brake,rear_brake,cargo_vol,height,width,length,weight,insp_score,top_speed,cityurl,car_price))\n",
    "df = pd.DataFrame(data, columns = [\"Car_Name\",\"Fuel_type\",\"Running_in_kms\",\"Endine_disp\", \"Gear_transmission\",\"Milage_in_km/ltr\",\"Seating_cap\",\"color\",\"Max_power\",\"front_brake_type\",\"rear_brake_type\",\"cargo_volume\",\"height\",\"width\",\"length\",\"Weight\",\"Insp_score\",\"top_speed\",\"City_url\",\"Car_price\"])\n",
    "df"
   ]
  },
  {
   "cell_type": "code",
   "execution_count": null,
   "id": "d32b2f44",
   "metadata": {},
   "outputs": [],
   "source": [
    "# Saving the scraped data into excel file\n",
    "df.to_excel(\"UsedCarsDetails.xlsx\")"
   ]
  },
  {
   "cell_type": "code",
   "execution_count": null,
   "id": "65ff8742",
   "metadata": {},
   "outputs": [],
   "source": []
  }
 ],
 "metadata": {
  "kernelspec": {
   "display_name": "Python 3 (ipykernel)",
   "language": "python",
   "name": "python3"
  },
  "language_info": {
   "codemirror_mode": {
    "name": "ipython",
    "version": 3
   },
   "file_extension": ".py",
   "mimetype": "text/x-python",
   "name": "python",
   "nbconvert_exporter": "python",
   "pygments_lexer": "ipython3",
   "version": "3.9.7"
  }
 },
 "nbformat": 4,
 "nbformat_minor": 5
}
